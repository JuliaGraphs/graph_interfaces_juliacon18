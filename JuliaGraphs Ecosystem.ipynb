{
 "cells": [
  {
   "cell_type": "markdown",
   "metadata": {
    "slideshow": {
     "slide_type": "slide"
    }
   },
   "source": [
    "## JuliaGraphs 1.0 \n",
    "James Fairbanks and Seth Bromberger"
   ]
  },
  {
   "cell_type": "markdown",
   "metadata": {
    "slideshow": {
     "slide_type": "slide"
    }
   },
   "source": [
    "### JuliaGraphs: An ecosystem for all graph theory\n",
    "\n",
    "  - Core Data structures for implementing algorithms\n",
    "  - Network Science and Network Analytics\n",
    "  - I/O for standard formats\n",
    "  - Visualization \n",
    "\n",
    "### Scope of JuliaGraphs\n",
    "\n",
    "  - All graph theory from counting paths to spectral graph theory\n",
    "  - Sequential and Parallel Algorithms up to multi-core\n",
    "  - Flexible APIs and implementations to support diverse data structures\n",
    "  - Balance Math and CS perspectives on this shared field"
   ]
  },
  {
   "cell_type": "markdown",
   "metadata": {
    "slideshow": {
     "slide_type": "slide"
    }
   },
   "source": [
    "\n",
    "## The JuliaGraphs Ecosystem\n",
    "\n",
    "![file://graph.plot.svg](graph.plot.svg \"The JuliaGraphs Ecosystem\")\n"
   ]
  },
  {
   "cell_type": "markdown",
   "metadata": {
    "slideshow": {
     "slide_type": "subslide"
    }
   },
   "source": [
    "## Interesting Applications in the JuliaGraphs Ecosystem\n",
    "### Symbolic Math\n",
    "4. Treeview\n",
    "4. ExprOptimization\n",
    "\n",
    "### Probabilistic Programming\n",
    "1. BayesNets\n",
    "2. Mamba.jl\n",
    "2. DiffEQBayes\n",
    "\n",
    "### Image Processing \n",
    "3. ImageQuilting\n",
    "3. Image Segmentation\n",
    "\n",
    "### Economics\n",
    "\n",
    "### Biology\n",
    "6. Bio.jl\n",
    "\n"
   ]
  },
  {
   "cell_type": "markdown",
   "metadata": {
    "slideshow": {
     "slide_type": "slide"
    }
   },
   "source": [
    "## Abstraction\n",
    "\n",
    "Enables multiple implementations:\n",
    "\n",
    "1. SimpleGraph: the standard adjacency list you know and love\n",
    "2. StaticGraph: allows for better performance if you don't need to modify the graph.\n",
    "2. Weighted graphs: weights integrated as a first class concept\n",
    "3. Metagraphs: why should edge and vertex metadata be limited to weights?\n",
    "4. Evolving graphs: storing the entire history of a graph over time\n",
    "5. Database graphs: (too slow don’t use)\n",
    "\n",
    "\n"
   ]
  },
  {
   "cell_type": "markdown",
   "metadata": {
    "slideshow": {
     "slide_type": "subslide"
    }
   },
   "source": [
    "## MetaGraphs\n",
    "\n",
    "You can read graphs from DataFrames using [GraphDataFrameBridge](https://github.com/JuliaGraphs/GraphDataFrameBridge.jl)\n",
    "\n",
    "```julia\n",
    "julia> using DataFrames\n",
    "julia> using GraphDataFrameBridge\n",
    "\n",
    "julia> df = DataFrame(Dict(\"start\" => [\"a\", \"b\", \"a\", \"d\"],\n",
    "                           \"finish\" => [\"b\", \"c\", \"e\", \"e\"],\n",
    "                           \"weights\" => 1:4,\n",
    "                           \"extras\" => 5:8))\n",
    "4×4 DataFrame\n",
    "│ Row │ extras │ finish │ start │ weights │\n",
    "├─────┼────────┼────────┼───────┼─────────┤\n",
    "│ 1   │ 5      │ b      │ a     │ 1       │\n",
    "│ 2   │ 6      │ c      │ b     │ 2       │\n",
    "│ 3   │ 7      │ e      │ a     │ 3       │\n",
    "│ 4   │ 8      │ e      │ d     │ 4       │\n",
    "\n",
    "```\n"
   ]
  },
  {
   "cell_type": "markdown",
   "metadata": {
    "slideshow": {
     "slide_type": "subslide"
    }
   },
   "source": [
    "\n",
    "## Graphs from DataFrames\n",
    "\n",
    "Meta Graphs can convert any dataframe into a graph database!\n",
    "\n",
    "```julia\n",
    "# MetaGraph with `weight` attribute set and\n",
    "# `:extras` values stored as attributes.\n",
    "julia> mgw = MetaGraph(df, :start, :finish,\n",
    "                       weight=:weights,\n",
    "                       edge_attributes=:extras)\n",
    "{5, 4} undirected Int64 metagraph with Float64 weights defined by :weight (default weight 1.0)\n",
    "\n",
    "julia> props(mgw, 1, 2)\n",
    "Dict Symbol → Any with 2 entries\n",
    "  :extras → 5\n",
    "  :weight → 1\n",
    "```\n"
   ]
  },
  {
   "cell_type": "markdown",
   "metadata": {
    "slideshow": {
     "slide_type": "subslide"
    }
   },
   "source": [
    "\n",
    "## Evolving Graphs\n",
    "\n",
    "1. Mathieu made a PR to EG to get support for all LG api\n",
    "2. What does it look like when you jump in from your own ecosystem. Easy to join the LG network.\n",
    "\n",
    "![Evolving Graphs](https://etymoio.github.io/EvolvingGraphs.jl/latest/eg.png \"JuliaGraphs is an Evolving Graph of Graph Packages\")\n",
    "\n"
   ]
  },
  {
   "cell_type": "markdown",
   "metadata": {
    "slideshow": {
     "slide_type": "slide"
    }
   },
   "source": [
    "## Parallelism\n",
    "1. GSOC\n",
    "  - Breadth First Search\n",
    "  - Floyd Warshall All Pairs Shortest Paths\n",
    "2. Need a unified theory of parallel resources and algorithm selection looking\n",
    "   to DiffEQ.jl for guidance (2.0 roadmap). Automatically reason about\n",
    "   interactions between graph type, graph data, and compute resources to choose\n",
    "   best algorithm available.\n",
    "\n"
   ]
  },
  {
   "cell_type": "markdown",
   "metadata": {
    "slideshow": {
     "slide_type": "slide"
    }
   },
   "source": [
    "\n",
    "## Matching and Flows\n",
    "\n",
    "1. Minimizing LightGraphs dependencies by extracting out optimization based algorithms\n",
    "2. Big problems from moving ARPACK out of STDLIB\n"
   ]
  },
  {
   "cell_type": "markdown",
   "metadata": {
    "slideshow": {
     "slide_type": "slide"
    }
   },
   "source": [
    "\n",
    "## Academic Pubs\n",
    "1. HPEC 2017 Integrating LG with legacy graph libraries\n",
    "2. HPEC 2018 MCMC algorithm for community detection / clustering uses Multiple Dispatch to enable analysis of data structures\n",
    "3. Complex Network Analysis of Political Data\n"
   ]
  },
  {
   "cell_type": "markdown",
   "metadata": {
    "slideshow": {
     "slide_type": "slide"
    }
   },
   "source": [
    "## LightGraphs.jl 1.0 Stability Guarantee\n",
    "\n",
    "With the release of LightGraphs.jl v1.0 we are adopting SemVer:\n",
    "\n",
    "1. No breaking changes to external API before 2.0\n",
    "2. Any script that runs now and does not depend on internal implementations, will continue to run.\n",
    "3. Any additional features will get a X.Y+1.0 version bump\n",
    "\n",
    "Caveats:\n",
    "\n",
    "1. If a function computes *A solution* to a problem then we don't guarantee you will always get *the same solution* to the problem (ex BFS)\n",
    "2. Experimental Interfaces like parallelism are separated off in LightGraphs.Exp and still under development."
   ]
  },
  {
   "cell_type": "markdown",
   "metadata": {
    "slideshow": {
     "slide_type": "slide"
    }
   },
   "source": [
    "## Conclusion\n",
    "1. Good year for graphs in Julia\n",
    "2. 1.0 is out\n",
    "3. Hackathon tomorrow"
   ]
  }
 ],
 "metadata": {
  "celltoolbar": "Slideshow",
  "kernelspec": {
   "display_name": "Julia 0.7.0-beta2",
   "language": "julia",
   "name": "julia-0.7"
  },
  "language_info": {
   "file_extension": ".jl",
   "mimetype": "application/julia",
   "name": "julia",
   "version": "0.7.0"
  }
 },
 "nbformat": 4,
 "nbformat_minor": 2
}
